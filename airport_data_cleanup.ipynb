{
 "cells": [
  {
   "cell_type": "code",
   "execution_count": null,
   "metadata": {},
   "outputs": [],
   "source": [
    "# Import dependencies\n",
    "import pandas as pd\n",
    "import zipfile\n"
   ]
  },
  {
   "cell_type": "markdown",
   "metadata": {},
   "source": [
    "Extract Zipfile in Resources and write the contents to the directory"
   ]
  },
  {
   "cell_type": "code",
   "execution_count": null,
   "metadata": {},
   "outputs": [],
   "source": [
    "# Open the zip file\n",
    "with zipfile.ZipFile('Resources/dot-airline-on-time-performance-statistics.zip', 'r') as zip_ref:\n",
    "    # Extract all the contents into the extraction directory\n",
    "    zip_ref.extractall('Resources')\n"
   ]
  },
  {
   "cell_type": "markdown",
   "metadata": {},
   "source": [
    "# Airports Data"
   ]
  },
  {
   "cell_type": "code",
   "execution_count": null,
   "metadata": {},
   "outputs": [],
   "source": [
    "# Read the airports data into a Pandas DataFrame\n",
    "airports_df = pd.read_csv('Resources/dot-airline-on-time-performance-statistics/Airports')\n",
    "airports_df.head()\n"
   ]
  },
  {
   "cell_type": "markdown",
   "metadata": {},
   "source": [
    "# Air Carriers Data"
   ]
  },
  {
   "cell_type": "code",
   "execution_count": null,
   "metadata": {},
   "outputs": [],
   "source": [
    "# Read Air Carriers Data into pandas dataframe\n",
    "aircarriers_df = pd.read_csv('Resources/dot-airline-on-time-performance-statistics/Air Carriers')\n",
    "aircarriers_df.head()"
   ]
  },
  {
   "cell_type": "markdown",
   "metadata": {},
   "source": [
    "# August 2018 Nationwide Data"
   ]
  },
  {
   "cell_type": "code",
   "execution_count": null,
   "metadata": {},
   "outputs": [],
   "source": [
    "# Read Airline Performance Nationwide Stats for August 2018\n",
    "aug2018_df = pd.read_csv('Resources/dot-airline-on-time-performance-statistics/August 2018 Nationwide.csv')\n",
    "aug2018_df.head()\n"
   ]
  }
 ],
 "metadata": {
  "kernelspec": {
   "display_name": "dev",
   "language": "python",
   "name": "python3"
  },
  "language_info": {
   "codemirror_mode": {
    "name": "ipython",
    "version": 3
   },
   "file_extension": ".py",
   "mimetype": "text/x-python",
   "name": "python",
   "nbconvert_exporter": "python",
   "pygments_lexer": "ipython3",
   "version": "3.10.13"
  }
 },
 "nbformat": 4,
 "nbformat_minor": 2
}
